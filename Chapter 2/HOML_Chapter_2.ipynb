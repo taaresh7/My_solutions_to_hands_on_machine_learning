{
  "nbformat": 4,
  "nbformat_minor": 0,
  "metadata": {
    "colab": {
      "name": "HOML Chapter-2.ipynb",
      "provenance": [],
      "collapsed_sections": []
    },
    "kernelspec": {
      "display_name": "Python 3",
      "name": "python3"
    },
    "language_info": {
      "name": "python"
    }
  },
  "cells": [
    {
      "cell_type": "markdown",
      "metadata": {
        "id": "YnwSU6__6wVT"
      },
      "source": [
        "#Chapter 2 exercise"
      ]
    },
    {
      "cell_type": "code",
      "metadata": {
        "id": "NGpVNspt6wVU"
      },
      "source": [
        "import numpy as np \n",
        "import pandas as pd\n",
        "import matplotlib.pyplot as plt\n",
        "import seaborn as sns "
      ],
      "execution_count": 1,
      "outputs": []
    },
    {
      "cell_type": "markdown",
      "metadata": {
        "id": "N6aGc0ziq-tZ"
      },
      "source": [
        "##Downloading and Loading data"
      ]
    },
    {
      "cell_type": "code",
      "metadata": {
        "id": "DtF3Jzcw6wVW"
      },
      "source": [
        "import os\n",
        "import tarfile\n",
        "import urllib.request\n",
        "\n",
        "DOWNLOAD_ROOT = \"https://raw.githubusercontent.com/ageron/handson-ml2/master/\"\n",
        "HOUSING_PATH = os.path.join(\"datasets\", \"housing\")\n",
        "HOUSING_URL = DOWNLOAD_ROOT + \"datasets/housing/housing.tgz\"\n",
        "\n",
        "def fetch_housing_data(housing_url=HOUSING_URL, housing_path=HOUSING_PATH):\n",
        "    if not os.path.isdir(housing_path):\n",
        "        os.makedirs(housing_path)\n",
        "    tgz_path = os.path.join(housing_path, \"housing.tgz\")\n",
        "    urllib.request.urlretrieve(housing_url, tgz_path)\n",
        "    housing_tgz = tarfile.open(tgz_path)\n",
        "    housing_tgz.extractall(path=housing_path)\n",
        "    housing_tgz.close()"
      ],
      "execution_count": 2,
      "outputs": []
    },
    {
      "cell_type": "code",
      "metadata": {
        "id": "ZMGfMNfe6wVW"
      },
      "source": [
        "fetch_housing_data()"
      ],
      "execution_count": 3,
      "outputs": []
    },
    {
      "cell_type": "code",
      "metadata": {
        "id": "zJzb5qZt6wVW"
      },
      "source": [
        "def load_housing_data(housing_path=HOUSING_PATH):\n",
        "    csv_path = os.path.join(housing_path, \"housing.csv\")\n",
        "    return pd.read_csv(csv_path)"
      ],
      "execution_count": 4,
      "outputs": []
    },
    {
      "cell_type": "code",
      "metadata": {
        "id": "lDCghoe26wVX"
      },
      "source": [
        "housing_data = load_housing_data()"
      ],
      "execution_count": 5,
      "outputs": []
    },
    {
      "cell_type": "code",
      "metadata": {
        "colab": {
          "base_uri": "https://localhost:8080/",
          "height": 206
        },
        "id": "4DGqlOMH6wVX",
        "outputId": "5c93a3b0-b9de-437e-f1b1-215af431d83f"
      },
      "source": [
        "housing_data.head()"
      ],
      "execution_count": 6,
      "outputs": [
        {
          "output_type": "execute_result",
          "data": {
            "text/html": [
              "<div>\n",
              "<style scoped>\n",
              "    .dataframe tbody tr th:only-of-type {\n",
              "        vertical-align: middle;\n",
              "    }\n",
              "\n",
              "    .dataframe tbody tr th {\n",
              "        vertical-align: top;\n",
              "    }\n",
              "\n",
              "    .dataframe thead th {\n",
              "        text-align: right;\n",
              "    }\n",
              "</style>\n",
              "<table border=\"1\" class=\"dataframe\">\n",
              "  <thead>\n",
              "    <tr style=\"text-align: right;\">\n",
              "      <th></th>\n",
              "      <th>longitude</th>\n",
              "      <th>latitude</th>\n",
              "      <th>housing_median_age</th>\n",
              "      <th>total_rooms</th>\n",
              "      <th>total_bedrooms</th>\n",
              "      <th>population</th>\n",
              "      <th>households</th>\n",
              "      <th>median_income</th>\n",
              "      <th>median_house_value</th>\n",
              "      <th>ocean_proximity</th>\n",
              "    </tr>\n",
              "  </thead>\n",
              "  <tbody>\n",
              "    <tr>\n",
              "      <th>0</th>\n",
              "      <td>-122.23</td>\n",
              "      <td>37.88</td>\n",
              "      <td>41.0</td>\n",
              "      <td>880.0</td>\n",
              "      <td>129.0</td>\n",
              "      <td>322.0</td>\n",
              "      <td>126.0</td>\n",
              "      <td>8.3252</td>\n",
              "      <td>452600.0</td>\n",
              "      <td>NEAR BAY</td>\n",
              "    </tr>\n",
              "    <tr>\n",
              "      <th>1</th>\n",
              "      <td>-122.22</td>\n",
              "      <td>37.86</td>\n",
              "      <td>21.0</td>\n",
              "      <td>7099.0</td>\n",
              "      <td>1106.0</td>\n",
              "      <td>2401.0</td>\n",
              "      <td>1138.0</td>\n",
              "      <td>8.3014</td>\n",
              "      <td>358500.0</td>\n",
              "      <td>NEAR BAY</td>\n",
              "    </tr>\n",
              "    <tr>\n",
              "      <th>2</th>\n",
              "      <td>-122.24</td>\n",
              "      <td>37.85</td>\n",
              "      <td>52.0</td>\n",
              "      <td>1467.0</td>\n",
              "      <td>190.0</td>\n",
              "      <td>496.0</td>\n",
              "      <td>177.0</td>\n",
              "      <td>7.2574</td>\n",
              "      <td>352100.0</td>\n",
              "      <td>NEAR BAY</td>\n",
              "    </tr>\n",
              "    <tr>\n",
              "      <th>3</th>\n",
              "      <td>-122.25</td>\n",
              "      <td>37.85</td>\n",
              "      <td>52.0</td>\n",
              "      <td>1274.0</td>\n",
              "      <td>235.0</td>\n",
              "      <td>558.0</td>\n",
              "      <td>219.0</td>\n",
              "      <td>5.6431</td>\n",
              "      <td>341300.0</td>\n",
              "      <td>NEAR BAY</td>\n",
              "    </tr>\n",
              "    <tr>\n",
              "      <th>4</th>\n",
              "      <td>-122.25</td>\n",
              "      <td>37.85</td>\n",
              "      <td>52.0</td>\n",
              "      <td>1627.0</td>\n",
              "      <td>280.0</td>\n",
              "      <td>565.0</td>\n",
              "      <td>259.0</td>\n",
              "      <td>3.8462</td>\n",
              "      <td>342200.0</td>\n",
              "      <td>NEAR BAY</td>\n",
              "    </tr>\n",
              "  </tbody>\n",
              "</table>\n",
              "</div>"
            ],
            "text/plain": [
              "   longitude  latitude  ...  median_house_value  ocean_proximity\n",
              "0    -122.23     37.88  ...            452600.0         NEAR BAY\n",
              "1    -122.22     37.86  ...            358500.0         NEAR BAY\n",
              "2    -122.24     37.85  ...            352100.0         NEAR BAY\n",
              "3    -122.25     37.85  ...            341300.0         NEAR BAY\n",
              "4    -122.25     37.85  ...            342200.0         NEAR BAY\n",
              "\n",
              "[5 rows x 10 columns]"
            ]
          },
          "metadata": {
            "tags": []
          },
          "execution_count": 6
        }
      ]
    },
    {
      "cell_type": "markdown",
      "metadata": {
        "id": "e0sJHaBXrIlz"
      },
      "source": [
        "### Adding some extra attributes "
      ]
    },
    {
      "cell_type": "code",
      "metadata": {
        "colab": {
          "base_uri": "https://localhost:8080/"
        },
        "id": "bXZGs15z6wVZ",
        "outputId": "c79b0a88-6afb-4bd6-c1cd-c36ae3d9df63"
      },
      "source": [
        "from sklearn.base import TransformerMixin , BaseEstimator\n",
        "attrs = ['total_rooms' ,'total_bedrooms', 'population' ,'households' ]\n",
        "room_ix , bedrooms_ix , households_ix, population_ix = (housing_data.columns.get_loc(i) for i in attrs)  \n",
        "print(room_ix , bedrooms_ix , households_ix, population_ix)\n",
        "class CombinerAttrAdder(BaseEstimator , TransformerMixin):\n",
        "  def __init__(self, add_bedrooms_per_room =False):\n",
        "    self.add_bedrooms_per_room = add_bedrooms_per_room\n",
        "  def fit(self, X, y= None):\n",
        "    return self\n",
        "  def transform(self , X):\n",
        "    pop_per_household = X[:,population_ix]/X[:,households_ix]\n",
        "    rooms_per_household = X[:,room_ix]/X[:,households_ix]\n",
        "    if self.add_bedrooms_per_room == True:\n",
        "      bedrooms_per_rooms = X[:,bedrooms_ix]/X[:,room_ix]\n",
        "      return np.c_[X ,pop_per_household,rooms_per_household , bedrooms_per_rooms]\n",
        "    else:\n",
        "      return np.c_[X ,pop_per_household,rooms_per_household ]\n"
      ],
      "execution_count": 7,
      "outputs": [
        {
          "output_type": "stream",
          "text": [
            "3 4 5 6\n"
          ],
          "name": "stdout"
        }
      ]
    },
    {
      "cell_type": "markdown",
      "metadata": {
        "id": "GaAfzlYnrS_q"
      },
      "source": [
        "## Spliting the data and making pipelines"
      ]
    },
    {
      "cell_type": "code",
      "metadata": {
        "id": "CWrwqyjl6wVc"
      },
      "source": [
        "from sklearn.preprocessing import OneHotEncoder\n",
        "from sklearn.preprocessing import StandardScaler\n",
        "from sklearn.pipeline import Pipeline\n",
        "from sklearn.compose import ColumnTransformer\n",
        "from sklearn.impute import SimpleImputer"
      ],
      "execution_count": 8,
      "outputs": []
    },
    {
      "cell_type": "code",
      "metadata": {
        "id": "EXBWGliP6wVd"
      },
      "source": [
        "from sklearn.model_selection import train_test_split"
      ],
      "execution_count": 9,
      "outputs": []
    },
    {
      "cell_type": "code",
      "metadata": {
        "id": "bJSpGqCC6wVe"
      },
      "source": [
        "housing = housing_data.drop('median_house_value', axis = 1)\n",
        "housing_label = housing_data['median_house_value']\n",
        "\n",
        "X_train ,X_test ,y_train , y_test = train_test_split(housing, housing_label , test_size = 0.2 , random_state = 7)"
      ],
      "execution_count": 10,
      "outputs": []
    },
    {
      "cell_type": "code",
      "metadata": {
        "id": "qqSx9akd6wVe"
      },
      "source": [
        "num_pipeline = Pipeline([('imputer' , SimpleImputer(strategy = 'median')),\n",
        "                         ('atts_adder', CombinerAttrAdder(add_bedrooms_per_room= True)),\n",
        "                         ('scaler', StandardScaler())])"
      ],
      "execution_count": 11,
      "outputs": []
    },
    {
      "cell_type": "code",
      "metadata": {
        "id": "hXUClU6C6wVe"
      },
      "source": [
        "housing_num =  housing.drop('ocean_proximity' , axis =1 ).columns"
      ],
      "execution_count": 12,
      "outputs": []
    },
    {
      "cell_type": "code",
      "metadata": {
        "id": "Q9NUsvE_6wVf"
      },
      "source": [
        "full_pipeline = ColumnTransformer([('num' , num_pipeline , list(housing_num)),\n",
        "                                   ('cat' , OneHotEncoder() , ['ocean_proximity'])])"
      ],
      "execution_count": 13,
      "outputs": []
    },
    {
      "cell_type": "markdown",
      "metadata": {
        "id": "kSCJNV5d7Rfu"
      },
      "source": [
        "#Exercise"
      ]
    },
    {
      "cell_type": "markdown",
      "metadata": {
        "id": "JgvKRK0VWprN"
      },
      "source": [
        "###Q-1"
      ]
    },
    {
      "cell_type": "code",
      "metadata": {
        "id": "ebyQDSRg7hvA"
      },
      "source": [
        "from sklearn.linear_model import LinearRegression\n",
        "from sklearn.model_selection import GridSearchCV\n",
        "from sklearn.model_selection import RandomizedSearchCV\n",
        "from sklearn.ensemble import RandomForestRegressor\n",
        "from sklearn.svm import SVR\n",
        "from sklearn.metrics import mean_squared_error"
      ],
      "execution_count": 14,
      "outputs": []
    },
    {
      "cell_type": "markdown",
      "metadata": {
        "id": "podX_20qtKpa"
      },
      "source": [
        "###Grid Search on SVR "
      ]
    },
    {
      "cell_type": "code",
      "metadata": {
        "colab": {
          "base_uri": "https://localhost:8080/"
        },
        "id": "EedxYIO17kvG",
        "outputId": "d7a7bb54-082f-4ec2-9111-ab7fbf3685e3"
      },
      "source": [
        "param_grid = [{'kernel':['linear'] , 'C':[5,50,500,5000] },\n",
        "              {'kernel':['rbf'] , 'C': [5,50,500,5000] , 'gamma':['auto', 'scale'] }]\n",
        "\n",
        "housing_prepared = full_pipeline.fit_transform(X_train)\n",
        "\n",
        "grd_svr = GridSearchCV(SVR() , param_grid= param_grid , scoring = 'neg_mean_squared_error' , \n",
        "                       cv =5 , n_jobs =-1 ,return_train_score= True , verbose =1)\n",
        "\n",
        "grd_svr.fit(housing_prepared, y_train)"
      ],
      "execution_count": null,
      "outputs": [
        {
          "output_type": "stream",
          "text": [
            "Fitting 5 folds for each of 12 candidates, totalling 60 fits\n"
          ],
          "name": "stdout"
        },
        {
          "output_type": "stream",
          "text": [
            "[Parallel(n_jobs=-1)]: Using backend LokyBackend with 2 concurrent workers.\n",
            "[Parallel(n_jobs=-1)]: Done  46 tasks      | elapsed: 10.5min\n",
            "[Parallel(n_jobs=-1)]: Done  60 out of  60 | elapsed: 14.3min finished\n"
          ],
          "name": "stderr"
        },
        {
          "output_type": "execute_result",
          "data": {
            "text/plain": [
              "GridSearchCV(cv=5, error_score=nan,\n",
              "             estimator=SVR(C=1.0, cache_size=200, coef0=0.0, degree=3,\n",
              "                           epsilon=0.1, gamma='scale', kernel='rbf',\n",
              "                           max_iter=-1, shrinking=True, tol=0.001,\n",
              "                           verbose=False),\n",
              "             iid='deprecated', n_jobs=-1,\n",
              "             param_grid=[{'C': [5, 50, 500, 5000], 'kernel': ['linear']},\n",
              "                         {'C': [5, 50, 500, 5000], 'gamma': ['auto', 'scale'],\n",
              "                          'kernel': ['rbf']}],\n",
              "             pre_dispatch='2*n_jobs', refit=True, return_train_score=True,\n",
              "             scoring='neg_mean_squared_error', verbose=1)"
            ]
          },
          "metadata": {
            "tags": []
          },
          "execution_count": 16
        }
      ]
    },
    {
      "cell_type": "code",
      "metadata": {
        "colab": {
          "base_uri": "https://localhost:8080/"
        },
        "id": "lkKdVQMS7kkF",
        "outputId": "8942d6e5-a2d7-4b2e-e897-f4a883765f63"
      },
      "source": [
        "for params , score in zip(grd_svr.cv_results_['params'] , grd_svr.cv_results_['mean_test_score']):\n",
        "  print(params , np.sqrt(-score))"
      ],
      "execution_count": null,
      "outputs": [
        {
          "output_type": "stream",
          "text": [
            "{'C': 5, 'kernel': 'linear'} 90992.07478735418\n",
            "{'C': 50, 'kernel': 'linear'} 69167.8543617127\n",
            "{'C': 500, 'kernel': 'linear'} 67360.65629753521\n",
            "{'C': 5000, 'kernel': 'linear'} 67203.51053744886\n",
            "{'C': 5, 'gamma': 'auto', 'kernel': 'rbf'} 116740.12287695573\n",
            "{'C': 5, 'gamma': 'scale', 'kernel': 'rbf'} 116743.64152843636\n",
            "{'C': 50, 'gamma': 'auto', 'kernel': 'rbf'} 104244.1001614259\n",
            "{'C': 50, 'gamma': 'scale', 'kernel': 'rbf'} 104360.29006871692\n",
            "{'C': 500, 'gamma': 'auto', 'kernel': 'rbf'} 72456.63105297046\n",
            "{'C': 500, 'gamma': 'scale', 'kernel': 'rbf'} 73605.60198454004\n",
            "{'C': 5000, 'gamma': 'auto', 'kernel': 'rbf'} 60061.385233217545\n",
            "{'C': 5000, 'gamma': 'scale', 'kernel': 'rbf'} 59722.89112383708\n"
          ],
          "name": "stdout"
        }
      ]
    },
    {
      "cell_type": "code",
      "metadata": {
        "colab": {
          "base_uri": "https://localhost:8080/"
        },
        "id": "QAd4tEN_Q6MO",
        "outputId": "2a8604d6-1d1d-472c-d615-cf0a2664ae6e"
      },
      "source": [
        "grd_svr.best_params_ , np.sqrt(-grd_svr.best_score_) "
      ],
      "execution_count": null,
      "outputs": [
        {
          "output_type": "execute_result",
          "data": {
            "text/plain": [
              "({'C': 5000, 'gamma': 'scale', 'kernel': 'rbf'}, 59722.89112383708)"
            ]
          },
          "metadata": {
            "tags": []
          },
          "execution_count": 19
        }
      ]
    },
    {
      "cell_type": "code",
      "metadata": {
        "colab": {
          "base_uri": "https://localhost:8080/"
        },
        "id": "UCltGmahVTVX",
        "outputId": "2d1216d9-9803-4d62-8ec3-33fcff2d2675"
      },
      "source": [
        "svr = SVR(**grd_svr.best_params_)\n",
        "svr.fit(housing_prepared , y_train )"
      ],
      "execution_count": null,
      "outputs": [
        {
          "output_type": "execute_result",
          "data": {
            "text/plain": [
              "SVR(C=5000, cache_size=200, coef0=0.0, degree=3, epsilon=0.1, gamma='scale',\n",
              "    kernel='rbf', max_iter=-1, shrinking=True, tol=0.001, verbose=False)"
            ]
          },
          "metadata": {
            "tags": []
          },
          "execution_count": 20
        }
      ]
    },
    {
      "cell_type": "code",
      "metadata": {
        "colab": {
          "base_uri": "https://localhost:8080/"
        },
        "id": "o8CxRi7oVj3H",
        "outputId": "a70e6d44-694e-48bc-c595-37ae4e29eecb"
      },
      "source": [
        "y_pred = svr.predict(housing_prepared)\n",
        "rmse = mean_squared_error(y_train,y_pred , squared = False)\n",
        "print(rmse)"
      ],
      "execution_count": null,
      "outputs": [
        {
          "output_type": "stream",
          "text": [
            "58687.42806078929\n"
          ],
          "name": "stdout"
        }
      ]
    },
    {
      "cell_type": "markdown",
      "metadata": {
        "id": "UMN8W62RKYpf"
      },
      "source": [
        "##Observation \n",
        "\n",
        "SVM seems to perform inferior to RandomForest, the best C is 5000, so requires very less regularization and the kernel is linear."
      ]
    },
    {
      "cell_type": "markdown",
      "metadata": {
        "id": "p8MqhPsNWvaN"
      },
      "source": [
        "##Q-2"
      ]
    },
    {
      "cell_type": "markdown",
      "metadata": {
        "id": "HXBDm-TagX95"
      },
      "source": [
        "### Random Search CV on SVR"
      ]
    },
    {
      "cell_type": "code",
      "metadata": {
        "colab": {
          "base_uri": "https://localhost:8080/"
        },
        "id": "srmIky8MPILj",
        "outputId": "d59749e3-4ebc-4007-de8d-37107094953d"
      },
      "source": [
        "%%time\n",
        "from scipy.stats import expon, reciprocal\n",
        "from scipy.stats import randint\n",
        "\n",
        "#The use of different distributions for hyperparameter tuning is taken for the official answers\n",
        "\n",
        "param_dist = {\n",
        "        'kernel': ['linear', 'rbf'],\n",
        "        'C': randint(2000,15000),\n",
        "        'gamma': expon(scale = 1),\n",
        "    }\n",
        "\n",
        "svm_reg = SVR()\n",
        "rnd_svr = RandomizedSearchCV(svm_reg, param_distributions=param_dist,\n",
        "                                n_iter=15, cv=5, scoring='neg_mean_squared_error',\n",
        "                                verbose=1 , n_jobs = -1)\n",
        "rnd_svr.fit(housing_prepared, y_train)"
      ],
      "execution_count": null,
      "outputs": [
        {
          "output_type": "stream",
          "text": [
            "Fitting 5 folds for each of 15 candidates, totalling 75 fits\n"
          ],
          "name": "stdout"
        },
        {
          "output_type": "stream",
          "text": [
            "[Parallel(n_jobs=-1)]: Using backend LokyBackend with 2 concurrent workers.\n",
            "[Parallel(n_jobs=-1)]: Done  46 tasks      | elapsed:  7.3min\n",
            "[Parallel(n_jobs=-1)]: Done  75 out of  75 | elapsed: 12.7min finished\n"
          ],
          "name": "stderr"
        },
        {
          "output_type": "stream",
          "text": [
            "CPU times: user 27.3 s, sys: 521 ms, total: 27.8 s\n",
            "Wall time: 13min 7s\n"
          ],
          "name": "stdout"
        }
      ]
    },
    {
      "cell_type": "code",
      "metadata": {
        "colab": {
          "base_uri": "https://localhost:8080/"
        },
        "id": "xtpqUgYhU6dX",
        "outputId": "1c30e06c-5e69-420f-a015-8fc60d2db26d"
      },
      "source": [
        "for params , score in zip(rnd_svr.cv_results_['params'] , rnd_svr.cv_results_['mean_test_score']):\n",
        "  print(params , np.sqrt(-score))\n"
      ],
      "execution_count": null,
      "outputs": [
        {
          "output_type": "stream",
          "text": [
            "{'C': 14279, 'gamma': 0.3554451278997717, 'kernel': 'rbf'} 58776.58077335331\n",
            "{'C': 6790, 'gamma': 0.5238787555432229, 'kernel': 'rbf'} 68955.35506023302\n",
            "{'C': 4844, 'gamma': 0.8816510979845603, 'kernel': 'linear'} 67205.0045842991\n",
            "{'C': 5986, 'gamma': 1.2322621605734507, 'kernel': 'linear'} 67194.87725786293\n",
            "{'C': 13288, 'gamma': 2.016005251560359, 'kernel': 'linear'} 67172.87801316072\n",
            "{'C': 4187, 'gamma': 4.269507409610038, 'kernel': 'linear'} 67214.34469883611\n",
            "{'C': 9750, 'gamma': 0.9799352165592159, 'kernel': 'linear'} 67179.56957002883\n",
            "{'C': 6805, 'gamma': 0.18291011293107068, 'kernel': 'linear'} 67188.8547542652\n",
            "{'C': 10231, 'gamma': 0.34624295233188856, 'kernel': 'linear'} 67175.82158648936\n",
            "{'C': 7688, 'gamma': 4.405501825075636, 'kernel': 'linear'} 67184.76403147739\n",
            "{'C': 14614, 'gamma': 0.911464465816738, 'kernel': 'rbf'} 72081.15668949255\n",
            "{'C': 4666, 'gamma': 0.5311638095995389, 'kernel': 'rbf'} 73085.04205075216\n",
            "{'C': 14680, 'gamma': 1.626758452264275, 'kernel': 'rbf'} 85527.52011036639\n",
            "{'C': 12419, 'gamma': 1.3819506864446494, 'kernel': 'rbf'} 83458.23395629915\n",
            "{'C': 14660, 'gamma': 1.81233187374008, 'kernel': 'rbf'} 88139.40405690268\n"
          ],
          "name": "stdout"
        }
      ]
    },
    {
      "cell_type": "code",
      "metadata": {
        "colab": {
          "base_uri": "https://localhost:8080/"
        },
        "id": "NJMSsH9UVBdz",
        "outputId": "65f7e7a0-309a-4888-ad95-38e9cc6b397e"
      },
      "source": [
        "rnd_svr.best_params_ , np.sqrt(-rnd_svr.best_score_)"
      ],
      "execution_count": null,
      "outputs": [
        {
          "output_type": "execute_result",
          "data": {
            "text/plain": [
              "({'C': 14279, 'gamma': 0.3554451278997717, 'kernel': 'rbf'}, 58776.58077335331)"
            ]
          },
          "metadata": {
            "tags": []
          },
          "execution_count": 24
        }
      ]
    },
    {
      "cell_type": "code",
      "metadata": {
        "colab": {
          "base_uri": "https://localhost:8080/"
        },
        "id": "Lxk28vuPWGR5",
        "outputId": "c614a1ba-64d7-4998-991f-e77041ae3fcb"
      },
      "source": [
        "svr = SVR(**rnd_svr.best_params_)\n",
        "svr.fit(housing_prepared , y_train )"
      ],
      "execution_count": null,
      "outputs": [
        {
          "output_type": "execute_result",
          "data": {
            "text/plain": [
              "SVR(C=14279, cache_size=200, coef0=0.0, degree=3, epsilon=0.1,\n",
              "    gamma=0.3554451278997717, kernel='rbf', max_iter=-1, shrinking=True,\n",
              "    tol=0.001, verbose=False)"
            ]
          },
          "metadata": {
            "tags": []
          },
          "execution_count": 25
        }
      ]
    },
    {
      "cell_type": "code",
      "metadata": {
        "colab": {
          "base_uri": "https://localhost:8080/"
        },
        "id": "Kdh60wGdWHKd",
        "outputId": "ecaf28bc-2f71-49e9-f9f0-8f1a1d0789e0"
      },
      "source": [
        "y_pred = svr.predict(housing_prepared)\n",
        "rmse = mean_squared_error(y_train,y_pred , squared = False)\n",
        "print(rmse)"
      ],
      "execution_count": null,
      "outputs": [
        {
          "output_type": "stream",
          "text": [
            "54726.53111460167\n"
          ],
          "name": "stdout"
        }
      ]
    },
    {
      "cell_type": "code",
      "metadata": {
        "id": "aXqso3cM7taC",
        "colab": {
          "base_uri": "https://localhost:8080/"
        },
        "outputId": "c93f60a3-91c5-4c0b-eb49-6b6021a502ab"
      },
      "source": [
        "import joblib\n",
        "import pickle\n",
        "# saving both the models with the CV results \n",
        "joblib.dump(rnd_svr, \"rnd_svr1.pkl\") \n",
        "\n",
        "joblib.dump(grd_svr, \"grd_svr1.pkl\") \n",
        "\n",
        "#my_model_loaded = joblib.load(\"grd_svr.pkl\")"
      ],
      "execution_count": null,
      "outputs": [
        {
          "output_type": "execute_result",
          "data": {
            "text/plain": [
              "['grd_svr1.pkl']"
            ]
          },
          "metadata": {
            "tags": []
          },
          "execution_count": 27
        }
      ]
    },
    {
      "cell_type": "code",
      "metadata": {
        "id": "gInaWSeTWjlF"
      },
      "source": [
        "import joblib\n",
        "rnd_svr , grd_svr = joblib.load('/content/drive/MyDrive/rnd_svr1.pkl') , joblib.load('/content/drive/MyDrive/grd_svr1.pkl')"
      ],
      "execution_count": 15,
      "outputs": []
    },
    {
      "cell_type": "markdown",
      "metadata": {
        "id": "NB7jLd0ALZ3M"
      },
      "source": [
        "##Observations\n",
        "\n",
        "C is now increased to almost 15000, so the regularization strength is reduced further. kernel is still rbf."
      ]
    },
    {
      "cell_type": "markdown",
      "metadata": {
        "id": "fA--3v_RW0Wm"
      },
      "source": [
        "#Q-3"
      ]
    },
    {
      "cell_type": "markdown",
      "metadata": {
        "id": "DUBwXvXAhN9M"
      },
      "source": [
        "To add another transformer for selecting the important attributes, I am training Random Forest because it performed better than SVR, and will use the feature importance of the Random Forests model."
      ]
    },
    {
      "cell_type": "code",
      "metadata": {
        "colab": {
          "base_uri": "https://localhost:8080/"
        },
        "id": "89VsWyVe71K_",
        "outputId": "2be5ba33-6d52-43ad-c4b2-c48566deb659"
      },
      "source": [
        "param_grid = [{'n_estimators': [5,10,50, 100 , 500], 'max_features': [2, 4, 6, 8]}]\n",
        "\n",
        "housing_prepared = full_pipeline.fit_transform(X_train)\n",
        "grd_rf = GridSearchCV(RandomForestRegressor() , param_grid , scoring = 'neg_mean_squared_error', \n",
        "                      cv = 7 , n_jobs = -1, return_train_score= 'True' , verbose = 1)\n",
        "grd_rf.fit(housing_prepared, y_train)"
      ],
      "execution_count": null,
      "outputs": [
        {
          "output_type": "stream",
          "text": [
            "Fitting 7 folds for each of 20 candidates, totalling 140 fits\n"
          ],
          "name": "stdout"
        },
        {
          "output_type": "stream",
          "text": [
            "[Parallel(n_jobs=-1)]: Using backend LokyBackend with 2 concurrent workers.\n",
            "/usr/local/lib/python3.7/dist-packages/joblib/externals/loky/process_executor.py:691: UserWarning: A worker stopped while some jobs were given to the executor. This can be caused by a too short worker timeout or by a memory leak.\n",
            "  \"timeout or by a memory leak.\", UserWarning\n",
            "[Parallel(n_jobs=-1)]: Done  46 tasks      | elapsed:  1.9min\n",
            "[Parallel(n_jobs=-1)]: Done 140 out of 140 | elapsed: 13.6min finished\n"
          ],
          "name": "stderr"
        },
        {
          "output_type": "execute_result",
          "data": {
            "text/plain": [
              "GridSearchCV(cv=7, error_score=nan,\n",
              "             estimator=RandomForestRegressor(bootstrap=True, ccp_alpha=0.0,\n",
              "                                             criterion='mse', max_depth=None,\n",
              "                                             max_features='auto',\n",
              "                                             max_leaf_nodes=None,\n",
              "                                             max_samples=None,\n",
              "                                             min_impurity_decrease=0.0,\n",
              "                                             min_impurity_split=None,\n",
              "                                             min_samples_leaf=1,\n",
              "                                             min_samples_split=2,\n",
              "                                             min_weight_fraction_leaf=0.0,\n",
              "                                             n_estimators=100, n_jobs=None,\n",
              "                                             oob_score=False, random_state=None,\n",
              "                                             verbose=0, warm_start=False),\n",
              "             iid='deprecated', n_jobs=-1,\n",
              "             param_grid=[{'max_features': [2, 4, 6, 8],\n",
              "                          'n_estimators': [5, 10, 50, 100, 500]}],\n",
              "             pre_dispatch='2*n_jobs', refit=True, return_train_score='True',\n",
              "             scoring='neg_mean_squared_error', verbose=1)"
            ]
          },
          "metadata": {
            "tags": []
          },
          "execution_count": 16
        }
      ]
    },
    {
      "cell_type": "code",
      "metadata": {
        "id": "u2snDpCj71G-",
        "colab": {
          "base_uri": "https://localhost:8080/"
        },
        "outputId": "2080a315-afeb-4174-8a4e-6f8f227f3efa"
      },
      "source": [
        "for params , score in zip(grd_rf.cv_results_['params'] , grd_rf.cv_results_['mean_test_score']):\n",
        "  print(params , np.sqrt(-score))"
      ],
      "execution_count": null,
      "outputs": [
        {
          "output_type": "stream",
          "text": [
            "{'max_features': 2, 'n_estimators': 5} 57863.947204840886\n",
            "{'max_features': 2, 'n_estimators': 10} 54502.47834409041\n",
            "{'max_features': 2, 'n_estimators': 50} 51252.27855347033\n",
            "{'max_features': 2, 'n_estimators': 100} 50624.35806545301\n",
            "{'max_features': 2, 'n_estimators': 500} 50448.26473995753\n",
            "{'max_features': 4, 'n_estimators': 5} 55541.60081025265\n",
            "{'max_features': 4, 'n_estimators': 10} 51358.61499336446\n",
            "{'max_features': 4, 'n_estimators': 50} 48941.295960971256\n",
            "{'max_features': 4, 'n_estimators': 100} 48766.75152340891\n",
            "{'max_features': 4, 'n_estimators': 500} 48437.72097298398\n",
            "{'max_features': 6, 'n_estimators': 5} 54408.16989759661\n",
            "{'max_features': 6, 'n_estimators': 10} 51297.48921106692\n",
            "{'max_features': 6, 'n_estimators': 50} 48772.78197075231\n",
            "{'max_features': 6, 'n_estimators': 100} 48378.301081310856\n",
            "{'max_features': 6, 'n_estimators': 500} 48103.961855417096\n",
            "{'max_features': 8, 'n_estimators': 5} 54417.46456704444\n",
            "{'max_features': 8, 'n_estimators': 10} 50999.908015216264\n",
            "{'max_features': 8, 'n_estimators': 50} 48764.754113967574\n",
            "{'max_features': 8, 'n_estimators': 100} 48521.849703577136\n",
            "{'max_features': 8, 'n_estimators': 500} 48151.86253406985\n"
          ],
          "name": "stdout"
        }
      ]
    },
    {
      "cell_type": "code",
      "metadata": {
        "id": "89IiO5qG71EE",
        "colab": {
          "base_uri": "https://localhost:8080/"
        },
        "outputId": "f7401b74-f38c-4a64-865b-21d53600832e"
      },
      "source": [
        "feat_imp = grd_rf.best_estimator_.feature_importances_\n",
        "feat_imp"
      ],
      "execution_count": null,
      "outputs": [
        {
          "output_type": "execute_result",
          "data": {
            "text/plain": [
              "array([7.40345171e-02, 7.24855917e-02, 3.90956895e-02, 1.68808238e-02,\n",
              "       1.58729942e-02, 1.60815552e-02, 1.61885193e-02, 3.23418064e-01,\n",
              "       7.16049097e-02, 1.12473272e-01, 7.27868920e-02, 1.25728870e-02,\n",
              "       1.48652947e-01, 1.23582304e-04, 3.21114984e-03, 4.51660592e-03])"
            ]
          },
          "metadata": {
            "tags": []
          },
          "execution_count": 18
        }
      ]
    },
    {
      "cell_type": "code",
      "metadata": {
        "id": "pmHilSzS71Aj"
      },
      "source": [
        "extra_attrs =['pop_per_household','rooms_per_household' , 'bedrooms_per_rooms' ]"
      ],
      "execution_count": null,
      "outputs": []
    },
    {
      "cell_type": "code",
      "metadata": {
        "id": "3-B2imUP-if4",
        "colab": {
          "base_uri": "https://localhost:8080/"
        },
        "outputId": "837e3eb8-f609-4ac8-d1a7-5abdde8cc401"
      },
      "source": [
        "cat_ohe = full_pipeline.named_transformers_['cat']\n",
        "\n",
        "cat_attr = list(cat_ohe.categories_[0])\n",
        "\n",
        "num_attrs = list(housing.drop('ocean_proximity' , axis = 1).columns)\n",
        "att = num_attrs + extra_attrs + cat_attr\n",
        "\n",
        "sorted(zip(feat_imp , att) , reverse = True)"
      ],
      "execution_count": null,
      "outputs": [
        {
          "output_type": "execute_result",
          "data": {
            "text/plain": [
              "[(0.32341806415034574, 'median_income'),\n",
              " (0.14865294682201835, 'INLAND'),\n",
              " (0.1124732715025282, 'rooms_per_household'),\n",
              " (0.07403451710713581, 'longitude'),\n",
              " (0.07278689195807725, 'bedrooms_per_rooms'),\n",
              " (0.07248559174281992, 'latitude'),\n",
              " (0.07160490967785187, 'pop_per_household'),\n",
              " (0.03909568947053962, 'housing_median_age'),\n",
              " (0.016880823777769643, 'total_rooms'),\n",
              " (0.016188519310159216, 'households'),\n",
              " (0.016081555162714745, 'population'),\n",
              " (0.015872994207297268, 'total_bedrooms'),\n",
              " (0.012572887046521415, '<1H OCEAN'),\n",
              " (0.004516605924345549, 'NEAR OCEAN'),\n",
              " (0.0032111498361270014, 'NEAR BAY'),\n",
              " (0.00012358230374848636, 'ISLAND')]"
            ]
          },
          "metadata": {
            "tags": []
          },
          "execution_count": 20
        }
      ]
    },
    {
      "cell_type": "code",
      "metadata": {
        "id": "Ti4BlGm__DQO"
      },
      "source": [
        "rf = RandomForestRegressor(**grd_rf.best_params_)"
      ],
      "execution_count": null,
      "outputs": []
    },
    {
      "cell_type": "code",
      "metadata": {
        "id": "Dk8JlW66_KcS"
      },
      "source": [
        "from sklearn.model_selection import cross_val_score\n",
        "\n",
        "forest_scores = cross_val_score(rf, housing_prepared, y_train,\n",
        "                                scoring=\"neg_mean_squared_error\", cv=10)\n",
        "forest_rmse_scores = np.sqrt(-forest_scores)\n"
      ],
      "execution_count": null,
      "outputs": []
    },
    {
      "cell_type": "code",
      "metadata": {
        "colab": {
          "base_uri": "https://localhost:8080/"
        },
        "id": "WIxiiA1R_zw6",
        "outputId": "3f09cebf-92e6-4a42-9d75-0961f0a37c78"
      },
      "source": [
        "forest_rmse_scores"
      ],
      "execution_count": null,
      "outputs": [
        {
          "output_type": "execute_result",
          "data": {
            "text/plain": [
              "array([45561.72069812, 49703.31485123, 47300.42215056, 46656.89702172,\n",
              "       47275.71994999, 50989.50865197, 47220.37546159, 49784.11609367,\n",
              "       47055.3572604 , 48166.36363249])"
            ]
          },
          "metadata": {
            "tags": []
          },
          "execution_count": 24
        }
      ]
    },
    {
      "cell_type": "code",
      "metadata": {
        "colab": {
          "base_uri": "https://localhost:8080/"
        },
        "id": "wjq3lmB-j_8w",
        "outputId": "e50d0a92-95db-48ff-9c2e-d2267a34d073"
      },
      "source": [
        "import joblib\n",
        "joblib.dump(grd_rf, 'grd_rf.pkl')"
      ],
      "execution_count": null,
      "outputs": [
        {
          "output_type": "execute_result",
          "data": {
            "text/plain": [
              "['grd_rf.pkl']"
            ]
          },
          "metadata": {
            "tags": []
          },
          "execution_count": 26
        }
      ]
    },
    {
      "cell_type": "code",
      "metadata": {
        "id": "w0IIwvOe_jAf"
      },
      "source": [
        "grd_rf = joblib.load('/content/drive/MyDrive/grd_rf.pkl')"
      ],
      "execution_count": 17,
      "outputs": []
    },
    {
      "cell_type": "code",
      "metadata": {
        "id": "Uh5_K9N_A_Yo"
      },
      "source": [
        "feat_imp = grd_rf.best_estimator_.feature_importances_"
      ],
      "execution_count": 18,
      "outputs": []
    },
    {
      "cell_type": "code",
      "metadata": {
        "id": "95r3mI5iQcHP"
      },
      "source": [
        "class TopKfeatures(BaseEstimator , TransformerMixin):\n",
        "  def __init__(self, feature_imp , k):\n",
        "    self.k = k\n",
        "    self.feature_imp = feature_imp\n",
        "  def fit(self ,X,y=None):\n",
        "\n",
        "    self.top_k = np.argsort(self.feature_imp)[::-1][:self.k]\n",
        "    return self\n",
        "  def transform(self, X):\n",
        "    return X[:,self.top_k]"
      ],
      "execution_count": 19,
      "outputs": []
    },
    {
      "cell_type": "code",
      "metadata": {
        "id": "AfZHDNm1WN9o"
      },
      "source": [
        "top_feat_pipeline = Pipeline([('full' , full_pipeline),\n",
        "                              ('top_k_feat' , TopKfeatures(feat_imp, 10))])"
      ],
      "execution_count": 20,
      "outputs": []
    },
    {
      "cell_type": "code",
      "metadata": {
        "id": "Wxrr6bIHWYkz"
      },
      "source": [
        "housing_prep_new = top_feat_pipeline.fit_transform(X_train)"
      ],
      "execution_count": 21,
      "outputs": []
    },
    {
      "cell_type": "code",
      "metadata": {
        "id": "-725pK8UYJDu",
        "colab": {
          "base_uri": "https://localhost:8080/"
        },
        "outputId": "3475b851-61b0-4f17-a8a2-620c5a4781a7"
      },
      "source": [
        "svr_top_k = SVR(**rnd_svr.best_params_)\n",
        "#r = svr_top_k.best_estimator_ #housing_prep_new\n",
        "svr_top_k.fit(housing_prep_new , y_train)"
      ],
      "execution_count": 22,
      "outputs": [
        {
          "output_type": "execute_result",
          "data": {
            "text/plain": [
              "SVR(C=14279, cache_size=200, coef0=0.0, degree=3, epsilon=0.1,\n",
              "    gamma=0.3554451278997717, kernel='rbf', max_iter=-1, shrinking=True,\n",
              "    tol=0.001, verbose=False)"
            ]
          },
          "metadata": {
            "tags": []
          },
          "execution_count": 22
        }
      ]
    },
    {
      "cell_type": "code",
      "metadata": {
        "id": "Zb7FUKupYd20",
        "colab": {
          "base_uri": "https://localhost:8080/"
        },
        "outputId": "eb904680-a0e0-4557-a723-c5fa94b56db2"
      },
      "source": [
        "svr_top_pred = svr_top_k.predict(housing_prep_new )\n",
        "\n",
        "\n",
        "svr_rmse = mean_squared_error(y_train, svr_top_pred , squared = False)\n",
        "svr_rmse"
      ],
      "execution_count": 23,
      "outputs": [
        {
          "output_type": "execute_result",
          "data": {
            "text/plain": [
              "54339.63874754279"
            ]
          },
          "metadata": {
            "tags": []
          },
          "execution_count": 23
        }
      ]
    },
    {
      "cell_type": "markdown",
      "metadata": {
        "id": "_rCgFZXsLxK4"
      },
      "source": [
        "##Observations \n",
        "Using only 10 features we still get a RMSE value 54339 comparable to RMSE using all features, The median income is the most important feature."
      ]
    },
    {
      "cell_type": "markdown",
      "metadata": {
        "id": "6J4AaGIo7Sgw"
      },
      "source": [
        "#Q-4 "
      ]
    },
    {
      "cell_type": "code",
      "metadata": {
        "id": "gRtkhP9I7UiY"
      },
      "source": [
        "pipeline_with_predict = Pipeline([('preparation' , full_pipeline),\n",
        "                              ('top_k_feat' , TopKfeatures(feat_imp,k =10)),\n",
        "                              ('prediction' , SVR(**rnd_svr.best_params_))])"
      ],
      "execution_count": 24,
      "outputs": []
    },
    {
      "cell_type": "code",
      "metadata": {
        "id": "83PkuZ0l7uSm",
        "colab": {
          "base_uri": "https://localhost:8080/"
        },
        "outputId": "df454428-1c88-4658-dfc0-e56e87851c89"
      },
      "source": [
        "pipeline_with_predict.fit(X_train , y_train)"
      ],
      "execution_count": 25,
      "outputs": [
        {
          "output_type": "execute_result",
          "data": {
            "text/plain": [
              "Pipeline(memory=None,\n",
              "         steps=[('preparation',\n",
              "                 ColumnTransformer(n_jobs=None, remainder='drop',\n",
              "                                   sparse_threshold=0.3,\n",
              "                                   transformer_weights=None,\n",
              "                                   transformers=[('num',\n",
              "                                                  Pipeline(memory=None,\n",
              "                                                           steps=[('imputer',\n",
              "                                                                   SimpleImputer(add_indicator=False,\n",
              "                                                                                 copy=True,\n",
              "                                                                                 fill_value=None,\n",
              "                                                                                 missing_values=nan,\n",
              "                                                                                 strategy='median',\n",
              "                                                                                 verbose=0)),\n",
              "                                                                  ('atts_adder',\n",
              "                                                                   CombinerAttrAdder(add_bedrooms_...\n",
              "       1.58729942e-02, 1.60815552e-02, 1.61885193e-02, 3.23418064e-01,\n",
              "       7.16049097e-02, 1.12473272e-01, 7.27868920e-02, 1.25728870e-02,\n",
              "       1.48652947e-01, 1.23582304e-04, 3.21114984e-03, 4.51660592e-03]),\n",
              "                              k=10)),\n",
              "                ('prediction',\n",
              "                 SVR(C=14279, cache_size=200, coef0=0.0, degree=3, epsilon=0.1,\n",
              "                     gamma=0.3554451278997717, kernel='rbf', max_iter=-1,\n",
              "                     shrinking=True, tol=0.001, verbose=False))],\n",
              "         verbose=False)"
            ]
          },
          "metadata": {
            "tags": []
          },
          "execution_count": 25
        }
      ]
    },
    {
      "cell_type": "code",
      "metadata": {
        "id": "iwR9jBy39T3c"
      },
      "source": [
        "y_pred_train = pipeline_with_predict.predict(X_train)"
      ],
      "execution_count": 26,
      "outputs": []
    },
    {
      "cell_type": "code",
      "metadata": {
        "id": "XK4m0vmg8iVT"
      },
      "source": [
        "y_pred_test = pipeline_with_predict.predict(X_test)"
      ],
      "execution_count": 27,
      "outputs": []
    },
    {
      "cell_type": "code",
      "metadata": {
        "colab": {
          "base_uri": "https://localhost:8080/"
        },
        "id": "63c2_-dG8t0t",
        "outputId": "c736f8d4-1360-4961-aac9-a33536e369ba"
      },
      "source": [
        "train_mse = mean_squared_error(y_train , y_pred_train , squared =False)\n",
        "test_mse = mean_squared_error(y_test , y_pred_test , squared =False)\n",
        "print(train_mse , test_mse)"
      ],
      "execution_count": 28,
      "outputs": [
        {
          "output_type": "stream",
          "text": [
            "54339.63874754279 58990.44678064234\n"
          ],
          "name": "stdout"
        }
      ]
    },
    {
      "cell_type": "markdown",
      "metadata": {
        "id": "Rsh6VsLFqjd8"
      },
      "source": [
        "#Q-5"
      ]
    },
    {
      "cell_type": "code",
      "metadata": {
        "colab": {
          "base_uri": "https://localhost:8080/"
        },
        "id": "I_cOOKFeqmHB",
        "outputId": "e2fdeb1f-d5e8-4cda-b3aa-ca8830ed9efc"
      },
      "source": [
        "param_grid = [{\n",
        "    'preparation__num__imputer__strategy': ['mean', 'median', 'most_frequent'],\n",
        "    'top_k_feat__k': list(range(1, len(feat_imp) + 1))\n",
        "}]\n",
        "\n",
        "\n",
        "grd_from_pipeline =GridSearchCV(pipeline_with_predict , param_grid , scoring ='neg_mean_squared_error',\n",
        "                                cv = 5 , n_jobs = -1 ,verbose = 1 , return_train_score = 'True')\n",
        "grd_from_pipeline.fit(X_train , y_train)"
      ],
      "execution_count": null,
      "outputs": [
        {
          "output_type": "stream",
          "text": [
            "Fitting 5 folds for each of 48 candidates, totalling 240 fits\n"
          ],
          "name": "stdout"
        },
        {
          "output_type": "stream",
          "text": [
            "[Parallel(n_jobs=-1)]: Using backend LokyBackend with 2 concurrent workers.\n",
            "[Parallel(n_jobs=-1)]: Done  46 tasks      | elapsed: 10.4min\n",
            "[Parallel(n_jobs=-1)]: Done 196 tasks      | elapsed: 46.8min\n",
            "[Parallel(n_jobs=-1)]: Done 240 out of 240 | elapsed: 58.3min finished\n"
          ],
          "name": "stderr"
        },
        {
          "output_type": "execute_result",
          "data": {
            "text/plain": [
              "GridSearchCV(cv=5, error_score=nan,\n",
              "             estimator=Pipeline(memory=None,\n",
              "                                steps=[('preparation',\n",
              "                                        ColumnTransformer(n_jobs=None,\n",
              "                                                          remainder='drop',\n",
              "                                                          sparse_threshold=0.3,\n",
              "                                                          transformer_weights=None,\n",
              "                                                          transformers=[('num',\n",
              "                                                                         Pipeline(memory=None,\n",
              "                                                                                  steps=[('imputer',\n",
              "                                                                                          SimpleImputer(add_indicator=False,\n",
              "                                                                                                        copy=True,\n",
              "                                                                                                        fill_value=None,\n",
              "                                                                                                        missing_values=nan,\n",
              "                                                                                                        strategy='median',\n",
              "                                                                                                        verbose=0)),\n",
              "                                                                                         (...\n",
              "                                            kernel='rbf', max_iter=-1,\n",
              "                                            shrinking=True, tol=0.001,\n",
              "                                            verbose=False))],\n",
              "                                verbose=False),\n",
              "             iid='deprecated', n_jobs=-1,\n",
              "             param_grid=[{'preparation__num__imputer__strategy': ['mean',\n",
              "                                                                  'median',\n",
              "                                                                  'most_frequent'],\n",
              "                          'top_k_feat__k': [1, 2, 3, 4, 5, 6, 7, 8, 9, 10, 11,\n",
              "                                            12, 13, 14, 15, 16]}],\n",
              "             pre_dispatch='2*n_jobs', refit=True, return_train_score='True',\n",
              "             scoring='neg_mean_squared_error', verbose=1)"
            ]
          },
          "metadata": {
            "tags": []
          },
          "execution_count": 40
        }
      ]
    },
    {
      "cell_type": "code",
      "metadata": {
        "colab": {
          "base_uri": "https://localhost:8080/"
        },
        "id": "zrYfeUl3yAaS",
        "outputId": "eaa595df-f1d5-4917-e740-f04777046488"
      },
      "source": [
        "for params , score in zip(grd_from_pipeline.cv_results_['params'] , grd_from_pipeline.cv_results_['mean_test_score']):\n",
        "  print(params , np.sqrt(-score))"
      ],
      "execution_count": null,
      "outputs": [
        {
          "output_type": "stream",
          "text": [
            "{'preparation__num__imputer__strategy': 'mean', 'top_k_feat__k': 1} 84066.00320647444\n",
            "{'preparation__num__imputer__strategy': 'mean', 'top_k_feat__k': 2} 75293.02033080747\n",
            "{'preparation__num__imputer__strategy': 'mean', 'top_k_feat__k': 3} 69081.19088180165\n",
            "{'preparation__num__imputer__strategy': 'mean', 'top_k_feat__k': 4} 65167.08167762155\n",
            "{'preparation__num__imputer__strategy': 'mean', 'top_k_feat__k': 5} 61665.12718756939\n",
            "{'preparation__num__imputer__strategy': 'mean', 'top_k_feat__k': 6} 58405.890563248475\n",
            "{'preparation__num__imputer__strategy': 'mean', 'top_k_feat__k': 7} 58447.82166651119\n",
            "{'preparation__num__imputer__strategy': 'mean', 'top_k_feat__k': 8} 55702.6320427275\n",
            "{'preparation__num__imputer__strategy': 'mean', 'top_k_feat__k': 9} 56678.41780190337\n",
            "{'preparation__num__imputer__strategy': 'mean', 'top_k_feat__k': 10} 57458.60703402374\n",
            "{'preparation__num__imputer__strategy': 'mean', 'top_k_feat__k': 11} 58006.36918188319\n",
            "{'preparation__num__imputer__strategy': 'mean', 'top_k_feat__k': 12} 58587.07886582534\n",
            "{'preparation__num__imputer__strategy': 'mean', 'top_k_feat__k': 13} 58680.78524169127\n",
            "{'preparation__num__imputer__strategy': 'mean', 'top_k_feat__k': 14} 58616.000469869134\n",
            "{'preparation__num__imputer__strategy': 'mean', 'top_k_feat__k': 15} 58765.25941914997\n",
            "{'preparation__num__imputer__strategy': 'mean', 'top_k_feat__k': 16} 58762.287949886544\n",
            "{'preparation__num__imputer__strategy': 'median', 'top_k_feat__k': 1} 84066.00320647444\n",
            "{'preparation__num__imputer__strategy': 'median', 'top_k_feat__k': 2} 75293.02033080747\n",
            "{'preparation__num__imputer__strategy': 'median', 'top_k_feat__k': 3} 69081.19088180165\n",
            "{'preparation__num__imputer__strategy': 'median', 'top_k_feat__k': 4} 65167.08167762155\n",
            "{'preparation__num__imputer__strategy': 'median', 'top_k_feat__k': 5} 61648.88973100853\n",
            "{'preparation__num__imputer__strategy': 'median', 'top_k_feat__k': 6} 58420.55222510015\n",
            "{'preparation__num__imputer__strategy': 'median', 'top_k_feat__k': 7} 58402.191657151394\n",
            "{'preparation__num__imputer__strategy': 'median', 'top_k_feat__k': 8} 55720.261410040584\n",
            "{'preparation__num__imputer__strategy': 'median', 'top_k_feat__k': 9} 56680.22005413683\n",
            "{'preparation__num__imputer__strategy': 'median', 'top_k_feat__k': 10} 57492.72301036725\n",
            "{'preparation__num__imputer__strategy': 'median', 'top_k_feat__k': 11} 58043.43835451541\n",
            "{'preparation__num__imputer__strategy': 'median', 'top_k_feat__k': 12} 58624.93873021931\n",
            "{'preparation__num__imputer__strategy': 'median', 'top_k_feat__k': 13} 58716.11188289263\n",
            "{'preparation__num__imputer__strategy': 'median', 'top_k_feat__k': 14} 58641.81968043348\n",
            "{'preparation__num__imputer__strategy': 'median', 'top_k_feat__k': 15} 58803.069802645645\n",
            "{'preparation__num__imputer__strategy': 'median', 'top_k_feat__k': 16} 58799.30312994664\n",
            "{'preparation__num__imputer__strategy': 'most_frequent', 'top_k_feat__k': 1} 84066.00320647444\n",
            "{'preparation__num__imputer__strategy': 'most_frequent', 'top_k_feat__k': 2} 75293.02033080747\n",
            "{'preparation__num__imputer__strategy': 'most_frequent', 'top_k_feat__k': 3} 69081.19088180165\n",
            "{'preparation__num__imputer__strategy': 'most_frequent', 'top_k_feat__k': 4} 65167.08167762155\n",
            "{'preparation__num__imputer__strategy': 'most_frequent', 'top_k_feat__k': 5} 61600.61764722927\n",
            "{'preparation__num__imputer__strategy': 'most_frequent', 'top_k_feat__k': 6} 58391.32260811736\n",
            "{'preparation__num__imputer__strategy': 'most_frequent', 'top_k_feat__k': 7} 58377.85606151062\n",
            "{'preparation__num__imputer__strategy': 'most_frequent', 'top_k_feat__k': 8} 55719.359410343604\n",
            "{'preparation__num__imputer__strategy': 'most_frequent', 'top_k_feat__k': 9} 56697.70844337126\n",
            "{'preparation__num__imputer__strategy': 'most_frequent', 'top_k_feat__k': 10} 57513.64432403676\n",
            "{'preparation__num__imputer__strategy': 'most_frequent', 'top_k_feat__k': 11} 58061.341557859705\n",
            "{'preparation__num__imputer__strategy': 'most_frequent', 'top_k_feat__k': 12} 58641.833453846426\n",
            "{'preparation__num__imputer__strategy': 'most_frequent', 'top_k_feat__k': 13} 58746.69711074764\n",
            "{'preparation__num__imputer__strategy': 'most_frequent', 'top_k_feat__k': 14} 58670.42252550429\n",
            "{'preparation__num__imputer__strategy': 'most_frequent', 'top_k_feat__k': 15} 58831.74597111504\n",
            "{'preparation__num__imputer__strategy': 'most_frequent', 'top_k_feat__k': 16} 58828.817757900455\n"
          ],
          "name": "stdout"
        }
      ]
    },
    {
      "cell_type": "code",
      "metadata": {
        "colab": {
          "base_uri": "https://localhost:8080/"
        },
        "id": "XxV0rYvhynvm",
        "outputId": "814b6df4-2cf1-4108-eb47-31c973648ca6"
      },
      "source": [
        "grd_from_pipeline.best_params_ , np.sqrt(-grd_from_pipeline.best_score_)"
      ],
      "execution_count": null,
      "outputs": [
        {
          "output_type": "execute_result",
          "data": {
            "text/plain": [
              "({'preparation__num__imputer__strategy': 'mean', 'top_k_feat__k': 8},\n",
              " 55702.6320427275)"
            ]
          },
          "metadata": {
            "tags": []
          },
          "execution_count": 42
        }
      ]
    },
    {
      "cell_type": "code",
      "metadata": {
        "colab": {
          "base_uri": "https://localhost:8080/"
        },
        "id": "vHkZ41ANp6wT",
        "outputId": "46269b3c-30fb-4d99-8212-8015ee0cad1c"
      },
      "source": [
        "joblib.dump(grd_from_pipeline, 'grd_pipeline_svr1.pkl')"
      ],
      "execution_count": null,
      "outputs": [
        {
          "output_type": "execute_result",
          "data": {
            "text/plain": [
              "['grd_pipeline_svr1.pkl']"
            ]
          },
          "metadata": {
            "tags": []
          },
          "execution_count": 43
        }
      ]
    },
    {
      "cell_type": "code",
      "metadata": {
        "id": "o4lWtZFKGtHM"
      },
      "source": [
        "grd_pipeline_svr1 = joblib.load('/content/drive/MyDrive/grd_pipeline_svr1.pkl')"
      ],
      "execution_count": 29,
      "outputs": []
    },
    {
      "cell_type": "code",
      "metadata": {
        "id": "Bw2cUOtrH89l"
      },
      "source": [
        "full_pipeline__num__imputer_strategy = 'mean'"
      ],
      "execution_count": 35,
      "outputs": []
    },
    {
      "cell_type": "code",
      "metadata": {
        "id": "F5jF8B_cG3-Z"
      },
      "source": [
        "pipeline_with_predict = Pipeline([('preparation' , full_pipeline),\n",
        "                              ('top_k_feat' , TopKfeatures(feat_imp,k =8)),\n",
        "                              ('prediction' , SVR(**rnd_svr.best_params_))])"
      ],
      "execution_count": 36,
      "outputs": []
    },
    {
      "cell_type": "code",
      "metadata": {
        "id": "I5AVkMvNIHT_"
      },
      "source": [
        "pipeline_with_predict.fit(X_train, y_train)\n",
        "y_pred_train = pipeline_with_predict.predict(X_train) \n",
        "y_pred_test = pipeline_with_predict.predict(X_test)"
      ],
      "execution_count": 37,
      "outputs": []
    },
    {
      "cell_type": "code",
      "metadata": {
        "colab": {
          "base_uri": "https://localhost:8080/"
        },
        "id": "dImXgFtTGtEQ",
        "outputId": "292684eb-5086-47e1-f0fe-8355463546cd"
      },
      "source": [
        "train_mse = mean_squared_error(y_train , y_pred_train , squared =False)\n",
        "test_mse = mean_squared_error(y_test , y_pred_test , squared =False)\n",
        "print(train_mse , test_mse)"
      ],
      "execution_count": 38,
      "outputs": [
        {
          "output_type": "stream",
          "text": [
            "53812.90364797498 57354.41188368425\n"
          ],
          "name": "stdout"
        }
      ]
    },
    {
      "cell_type": "markdown",
      "metadata": {
        "id": "FpfHkeBcMeUH"
      },
      "source": [
        "##Observations \n",
        "\n",
        "Using 8 features and strategy as mean seems to work best. "
      ]
    }
  ]
}